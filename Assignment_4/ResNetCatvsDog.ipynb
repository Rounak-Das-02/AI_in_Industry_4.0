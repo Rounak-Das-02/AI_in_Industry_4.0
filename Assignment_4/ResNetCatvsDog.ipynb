{
  "nbformat": 4,
  "nbformat_minor": 0,
  "metadata": {
    "colab": {
      "provenance": [],
      "gpuType": "T4"
    },
    "kernelspec": {
      "name": "python3",
      "display_name": "Python 3"
    },
    "language_info": {
      "name": "python"
    },
    "accelerator": "GPU"
  },
  "cells": [
    {
      "cell_type": "code",
      "source": [
        "import tensorflow as tf\n",
        "from tensorflow.keras.applications import ResNet50\n",
        "from tensorflow.keras.layers import Dense, GlobalAveragePooling2D\n",
        "from tensorflow.keras.models import Model\n",
        "from tensorflow.keras.optimizers import Adam\n",
        "from tensorflow.keras.preprocessing.image import ImageDataGenerator\n",
        "from PIL import Image\n",
        "import scipy"
      ],
      "metadata": {
        "id": "eZF7dVpPGLvx"
      },
      "execution_count": 40,
      "outputs": []
    },
    {
      "cell_type": "code",
      "source": [
        "from google.colab import drive\n",
        "drive.mount('/content/drive')"
      ],
      "metadata": {
        "colab": {
          "base_uri": "https://localhost:8080/"
        },
        "id": "xyTW1M2wL251",
        "outputId": "c1f3a438-991b-4e36-bfa0-5f1e57472ec2"
      },
      "execution_count": 41,
      "outputs": [
        {
          "output_type": "stream",
          "name": "stdout",
          "text": [
            "Drive already mounted at /content/drive; to attempt to forcibly remount, call drive.mount(\"/content/drive\", force_remount=True).\n"
          ]
        }
      ]
    },
    {
      "cell_type": "code",
      "source": [
        "HEIGHT, WIDTH = 224, 224\n",
        "NUM_CLASSES = 2  # \"cat\" and \"dog\""
      ],
      "metadata": {
        "id": "6xQEwbEeH4dV"
      },
      "execution_count": 42,
      "outputs": []
    },
    {
      "cell_type": "code",
      "source": [
        "\n",
        "# Create a ResNet50-based model\n",
        "def create_model():\n",
        "    base_model = ResNet50(weights='imagenet', include_top=False, input_shape=(HEIGHT, WIDTH, 3))\n",
        "    x = base_model.output\n",
        "    x = GlobalAveragePooling2D()(x)\n",
        "    x = Dense(1024, activation='relu')(x)\n",
        "    x = Dense(128, activation='relu')(x)  # Add an additional Dense layer\n",
        "    x = Dense(64, activation='relu')(x)   # Add another Dense layer\n",
        "    predictions = Dense(NUM_CLASSES, activation='softmax')(x)\n",
        "    model = Model(inputs=base_model.input, outputs=predictions)\n",
        "    return model"
      ],
      "metadata": {
        "id": "FDZUwm-SH6C2"
      },
      "execution_count": 43,
      "outputs": []
    },
    {
      "cell_type": "code",
      "source": [
        "# Create the model\n",
        "model =create_model()\n",
        "\n",
        "# Freeze pre-trained layers\n",
        "for layer in model.layers:\n",
        "    layer.trainable = False\n",
        "\n",
        "# Compile the model\n",
        "model.compile(optimizer=Adam(learning_rate=0.001), loss='categorical_crossentropy', metrics=['accuracy'])"
      ],
      "metadata": {
        "id": "1sJeIzsZH7TU"
      },
      "execution_count": 44,
      "outputs": []
    },
    {
      "cell_type": "code",
      "source": [
        "# Data augmentation and preprocessing\n",
        "train_datagen = ImageDataGenerator(\n",
        "    rescale=1.0 / 255,\n",
        "    rotation_range=20,\n",
        "    width_shift_range=0.2,\n",
        "    height_shift_range=0.2,\n",
        "    horizontal_flip=True,\n",
        "    validation_split=0.2\n",
        ")"
      ],
      "metadata": {
        "id": "DSDetfG3H8wd"
      },
      "execution_count": 45,
      "outputs": []
    },
    {
      "cell_type": "code",
      "source": [
        "\n",
        "train_data_dir = '/content/drive/MyDrive/CatvsDog'"
      ],
      "metadata": {
        "id": "TziLH3XBH-n0"
      },
      "execution_count": 46,
      "outputs": []
    },
    {
      "cell_type": "code",
      "source": [
        "# Create data generators\n",
        "train_generator = train_datagen.flow_from_directory(\n",
        "    train_data_dir,\n",
        "    target_size=(HEIGHT, WIDTH),\n",
        "    batch_size=32,\n",
        "    class_mode='categorical',\n",
        "    subset='training'\n",
        ")"
      ],
      "metadata": {
        "colab": {
          "base_uri": "https://localhost:8080/"
        },
        "id": "1lmRgfBdIAoR",
        "outputId": "73a09549-ad6e-4b29-a514-df53f22db579"
      },
      "execution_count": 47,
      "outputs": [
        {
          "output_type": "stream",
          "name": "stdout",
          "text": [
            "Found 1600 images belonging to 2 classes.\n"
          ]
        }
      ]
    },
    {
      "cell_type": "code",
      "source": [
        "validation_generator = train_datagen.flow_from_directory(\n",
        "    train_data_dir,\n",
        "    target_size=(HEIGHT, WIDTH),\n",
        "    batch_size=32,\n",
        "    class_mode='categorical',\n",
        "    subset='validation'\n",
        ")"
      ],
      "metadata": {
        "colab": {
          "base_uri": "https://localhost:8080/"
        },
        "id": "OTQNxtieIDD9",
        "outputId": "5b894269-d092-4526-9a1c-f04aa582ca56"
      },
      "execution_count": 48,
      "outputs": [
        {
          "output_type": "stream",
          "name": "stdout",
          "text": [
            "Found 400 images belonging to 2 classes.\n"
          ]
        }
      ]
    },
    {
      "cell_type": "code",
      "source": [
        "# Train the model\n",
        "history=model.fit(\n",
        "    train_generator,\n",
        "    steps_per_epoch=len(train_generator),\n",
        "    validation_data=validation_generator,\n",
        "    validation_steps=len(validation_generator),\n",
        "    epochs=10  # You can adjust the number of epochs\n",
        ")"
      ],
      "metadata": {
        "colab": {
          "base_uri": "https://localhost:8080/"
        },
        "id": "zyVIsWbDIEoK",
        "outputId": "4729ffe3-c02b-41ec-8178-3cb77fae0bcc"
      },
      "execution_count": 49,
      "outputs": [
        {
          "output_type": "stream",
          "name": "stdout",
          "text": [
            "Epoch 1/10\n",
            "50/50 [==============================] - 41s 773ms/step - loss: 0.7084 - accuracy: 0.5000 - val_loss: 0.7087 - val_accuracy: 0.5000\n",
            "Epoch 2/10\n",
            "50/50 [==============================] - 32s 645ms/step - loss: 0.7084 - accuracy: 0.5000 - val_loss: 0.7082 - val_accuracy: 0.5000\n",
            "Epoch 3/10\n",
            "50/50 [==============================] - 37s 736ms/step - loss: 0.7085 - accuracy: 0.5000 - val_loss: 0.7090 - val_accuracy: 0.5000\n",
            "Epoch 4/10\n",
            "50/50 [==============================] - 33s 658ms/step - loss: 0.7085 - accuracy: 0.5000 - val_loss: 0.7090 - val_accuracy: 0.5000\n",
            "Epoch 5/10\n",
            "50/50 [==============================] - 33s 654ms/step - loss: 0.7079 - accuracy: 0.5000 - val_loss: 0.7095 - val_accuracy: 0.5000\n",
            "Epoch 6/10\n",
            "50/50 [==============================] - 32s 647ms/step - loss: 0.7082 - accuracy: 0.5000 - val_loss: 0.7086 - val_accuracy: 0.5000\n",
            "Epoch 7/10\n",
            "50/50 [==============================] - 32s 643ms/step - loss: 0.7086 - accuracy: 0.5000 - val_loss: 0.7086 - val_accuracy: 0.5000\n",
            "Epoch 8/10\n",
            "50/50 [==============================] - 34s 678ms/step - loss: 0.7082 - accuracy: 0.5000 - val_loss: 0.7090 - val_accuracy: 0.5000\n",
            "Epoch 9/10\n",
            "50/50 [==============================] - 32s 649ms/step - loss: 0.7081 - accuracy: 0.5000 - val_loss: 0.7084 - val_accuracy: 0.5000\n",
            "Epoch 10/10\n",
            "50/50 [==============================] - 33s 659ms/step - loss: 0.7083 - accuracy: 0.5000 - val_loss: 0.7088 - val_accuracy: 0.5000\n"
          ]
        }
      ]
    },
    {
      "cell_type": "code",
      "source": [
        "import matplotlib.pyplot as plt\n",
        "acc = history.history['accuracy']\n",
        "val_acc = history.history['val_accuracy']\n",
        "loss = history.history['loss']\n",
        "val_loss = history.history['val_loss']\n",
        "\n",
        "epochs = range(len(acc))\n",
        "\n",
        "\n",
        "\n",
        "plt.plot(epochs, loss, 'r', label='Training Loss')\n",
        "plt.plot(epochs, val_loss, 'b', label='Validation Loss')\n",
        "plt.title('Training and Validation Loss')\n",
        "\n",
        "\n",
        "plt.legend()\n",
        "plt.show()"
      ],
      "metadata": {
        "colab": {
          "base_uri": "https://localhost:8080/",
          "height": 452
        },
        "id": "9u8vlbVBRvaU",
        "outputId": "6bbc7845-ae20-4ac3-b5e6-3d6e61ed018e"
      },
      "execution_count": 52,
      "outputs": [
        {
          "output_type": "display_data",
          "data": {
            "text/plain": [
              "<Figure size 640x480 with 1 Axes>"
            ],
            "image/png": "[encoded data removed]"
          },
          "metadata": {}
        }
      ]
    },
    {
      "cell_type": "code",
      "source": [],
      "metadata": {
        "id": "79eYClljYLqI"
      },
      "execution_count": null,
      "outputs": []
    }
  ]
}